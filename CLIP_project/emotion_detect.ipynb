{
 "cells": [
  {
   "cell_type": "code",
   "execution_count": 1,
   "id": "ef8b5eb5-5148-4f3b-a571-0b165e0f31af",
   "metadata": {},
   "outputs": [
    {
     "name": "stdout",
     "output_type": "stream",
     "text": [
      "CUDA available: True\n",
      "Device count: 1\n",
      "Current device: 0\n"
     ]
    },
    {
     "name": "stderr",
     "output_type": "stream",
     "text": [
      "e:\\Anaconda\\envs\\CLIP\\lib\\site-packages\\tqdm\\auto.py:21: TqdmWarning: IProgress not found. Please update jupyter and ipywidgets. See https://ipywidgets.readthedocs.io/en/stable/user_install.html\n",
      "  from .autonotebook import tqdm as notebook_tqdm\n"
     ]
    },
    {
     "name": "stdout",
     "output_type": "stream",
     "text": [
      "Mon Apr 28 22:07:40 2025       \n",
      "+-----------------------------------------------------------------------------------------+\n",
      "| NVIDIA-SMI 566.14                 Driver Version: 566.14         CUDA Version: 12.7     |\n",
      "|-----------------------------------------+------------------------+----------------------+\n",
      "| GPU  Name                  Driver-Model | Bus-Id          Disp.A | Volatile Uncorr. ECC |\n",
      "| Fan  Temp   Perf          Pwr:Usage/Cap |           Memory-Usage | GPU-Util  Compute M. |\n",
      "|                                         |                        |               MIG M. |\n",
      "|=========================================+========================+======================|\n",
      "|   0  NVIDIA GeForce RTX 3060 ...  WDDM  |   00000000:01:00.0  On |                  N/A |\n",
      "| N/A   41C    P8             14W /   50W |     970MiB /   6144MiB |     15%      Default |\n",
      "|                                         |                        |                  N/A |\n",
      "+-----------------------------------------+------------------------+----------------------+\n",
      "                                                                                         \n",
      "+-----------------------------------------------------------------------------------------+\n",
      "| Processes:                                                                              |\n",
      "|  GPU   GI   CI        PID   Type   Process name                              GPU Memory |\n",
      "|        ID   ID                                                               Usage      |\n",
      "|=========================================================================================|\n",
      "|    0   N/A  N/A      1732    C+G   ...5n1h2txyewy\\ShellExperienceHost.exe      N/A      |\n",
      "|    0   N/A  N/A      3212    C+G   ...CBS_cw5n1h2txyewy\\TextInputHost.exe      N/A      |\n",
      "|    0   N/A  N/A      4384    C+G   ....4628.0_x64__8j3eq9eme6ctt\\IGCC.exe      N/A      |\n",
      "|    0   N/A  N/A      6160    C+G   ...nt.CBS_cw5n1h2txyewy\\SearchHost.exe      N/A      |\n",
      "|    0   N/A  N/A      6600    C+G   D:\\Microsoft VS Code\\Code.exe               N/A      |\n",
      "|    0   N/A  N/A      8632    C+G   ...03.0_x64__8wekyb3d8bbwe\\Cortana.exe      N/A      |\n",
      "|    0   N/A  N/A      8916    C+G   C:\\Windows\\explorer.exe                     N/A      |\n",
      "|    0   N/A  N/A      9048    C+G   ...__8wekyb3d8bbwe\\Notepad\\Notepad.exe      N/A      |\n",
      "|    0   N/A  N/A     10280    C+G   ...siveControlPanel\\SystemSettings.exe      N/A      |\n",
      "|    0   N/A  N/A     11772    C+G   ...2txyewy\\StartMenuExperienceHost.exe      N/A      |\n",
      "|    0   N/A  N/A     12992    C+G   ...__8wekyb3d8bbwe\\WindowsTerminal.exe      N/A      |\n",
      "|    0   N/A  N/A     13932    C+G   E:\\Unity\\Unity Hub\\Unity Hub.exe            N/A      |\n",
      "|    0   N/A  N/A     17092    C+G   ...t.LockApp_cw5n1h2txyewy\\LockApp.exe      N/A      |\n",
      "|    0   N/A  N/A     18336      C   ...pData\\Local\\sogoupdf\\pdfpreview.exe      N/A      |\n",
      "|    0   N/A  N/A     19532    C+G   ...on\\135.0.3179.98\\msedgewebview2.exe      N/A      |\n",
      "|    0   N/A  N/A     21580    C+G   ...ekyb3d8bbwe\\PhoneExperienceHost.exe      N/A      |\n",
      "|    0   N/A  N/A     23900    C+G   ...les\\Microsoft OneDrive\\OneDrive.exe      N/A      |\n",
      "|    0   N/A  N/A     24044    C+G   ...crosoft\\Edge\\Application\\msedge.exe      N/A      |\n",
      "|    0   N/A  N/A     26428    C+G   ...ft Office\\root\\Office16\\WINWORD.EXE      N/A      |\n",
      "+-----------------------------------------------------------------------------------------+\n"
     ]
    }
   ],
   "source": [
    "import torch\n",
    "print(\"CUDA available:\", torch.cuda.is_available())\n",
    "print(\"Device count:\", torch.cuda.device_count())\n",
    "print(\"Current device:\", torch.cuda.current_device() if torch.cuda.is_available() else \"None\")\n",
    "!nvidia-smi\n"
   ]
  },
  {
   "cell_type": "code",
   "execution_count": 18,
   "id": "1a917731-bc8a-4735-8acf-b591be1712f3",
   "metadata": {},
   "outputs": [
    {
     "name": "stdout",
     "output_type": "stream",
     "text": [
      "Using device: cuda\n"
     ]
    }
   ],
   "source": [
    "import cv2\n",
    "import torch\n",
    "import clip\n",
    "import numpy as np\n",
    "from PIL import Image\n",
    "from typing import List\n",
    "\n",
    "# 设备选择\n",
    "device = \"cuda\" if torch.cuda.is_available() else \"cpu\"\n",
    "print(\"Using device:\", device)\n",
    "\n",
    "# 加载模型和预处理器\n",
    "model, preprocess = clip.load(\"ViT-B/32\", device=device)\n",
    "\n",
    "model.float()\n",
    "\n",
    "# 情绪提示词\n",
    "emotion_labels = [\n",
    "    # 喜 Joy\n",
    "    \"Joy: a vibrant scene with warm sunlight, blooming flowers, bright colors, and a peaceful landscape that evokes happiness.A dynamic and energetic scene full of movement, bright lights, fireworks, and visual excitement like a festival or concert\",\n",
    "\n",
    "    # 怒 Anger\n",
    "    \"Anger: a dramatic and chaotic environment with dark clouds, aggressive fire, broken structures, and intense tension in the atmosphere\",\n",
    "\n",
    "    # 哀 Sadness\n",
    "    \"Sadness: a lonely and desaturated scene of a rainy day, empty streets, or a quiet foggy forest that feels melancholic and heavy\",\n",
    "\n",
    "    # 害怕 Fear\n",
    "    \"Fear: a dark and eerie environment with shadows, fog, abandoned buildings, or looming shapes that create a strong sense of danger, suspense, or unease\",\n",
    "    \n",
    "    \"Excited: A fast-paced and thrilling electronic track with intense beats and energetic drops, reflecting the excitement and adrenaline of competitive gameplay.\"\n",
    "    \n",
    "    # 宁静 Inner Peace\n",
    "    \"Inner Peace: a calm and tranquil natural scene with soft sunlight, still water, open space, gentle hills or mountains, and a feeling of deep serenity\"\n",
    "]\n",
    "text_prompts = [f\"a scene evoking {e}\" for e in emotion_labels]\n",
    "text_tokens = clip.tokenize(text_prompts).to(device)"
   ]
  },
  {
   "cell_type": "code",
   "execution_count": 15,
   "id": "8e2ff7fb-bf3c-4808-bc98-7355d4374ea5",
   "metadata": {},
   "outputs": [],
   "source": [
    "def extract_frames(video_path: str, interval_sec: float = 1.0) -> List[Image.Image]:\n",
    "    \"\"\"\n",
    "    每 interval_sec 截取一帧，返回 PIL 图像列表\n",
    "    \"\"\"\n",
    "    cap = cv2.VideoCapture(video_path)\n",
    "    fps = cap.get(cv2.CAP_PROP_FPS)\n",
    "    frame_interval = int(fps * interval_sec)\n",
    "    frames = []\n",
    "\n",
    "    frame_idx = 0\n",
    "    while cap.isOpened():\n",
    "        ret, frame = cap.read()\n",
    "        if not ret:\n",
    "            break\n",
    "        if frame_idx % frame_interval == 0:\n",
    "            image_pil = Image.fromarray(cv2.cvtColor(frame, cv2.COLOR_BGR2RGB))\n",
    "            frames.append(image_pil)\n",
    "        frame_idx += 1\n",
    "\n",
    "    cap.release()\n",
    "    return frames"
   ]
  },
  {
   "cell_type": "code",
   "execution_count": 19,
   "id": "231bf943-3ce4-44cc-be17-a88528afff18",
   "metadata": {},
   "outputs": [],
   "source": [
    "def predict_emotion_for_images(images: List[Image.Image], model, preprocess, text_features, device=\"cpu\") -> np.ndarray:\n",
    "    \"\"\"\n",
    "    对图像列表进行情绪识别，返回每帧情绪得分组成的数组 shape=[num_frames, num_emotions]\n",
    "    \"\"\"\n",
    "    all_probs = []\n",
    "    with torch.no_grad():\n",
    "        for img in images:\n",
    "            image_input = preprocess(img).unsqueeze(0).to(device)\n",
    "            image_features = model.encode_image(image_input)\n",
    "            logits_per_image = (image_features @ text_features.T).softmax(dim=-1)\n",
    "            all_probs.append(logits_per_image.cpu().numpy()[0])\n",
    "    return np.array(all_probs)\n",
    "\n",
    "def analyze_video_emotion(video_path: str, model, preprocess, device=\"cpu\") -> None:\n",
    "    \"\"\"\n",
    "    主函数：输入视频路径，输出分析结果\n",
    "    \"\"\"\n",
    "    print(f\"⏳ 正在处理视频: {video_path}\")\n",
    "    # 1. 编码文本特征（只做一次）\n",
    "    text_tokens = clip.tokenize(text_prompts).to(device)\n",
    "    with torch.no_grad():\n",
    "        text_features = model.encode_text(text_tokens)\n",
    "\n",
    "    # 2. 提取帧\n",
    "    frames = extract_frames(video_path, interval_sec=1.0)\n",
    "    print(f\"✅ 提取帧数: {len(frames)}\")\n",
    "\n",
    "    if not frames:\n",
    "        print(\"⚠️ 未提取到帧，检查视频文件是否有效\")\n",
    "        return\n",
    "\n",
    "    # 3. 图像预测\n",
    "    all_probs = predict_emotion_for_images(frames, model, preprocess, text_features, device=device)\n",
    "\n",
    "    # 4. 汇总分析\n",
    "    avg_probs = all_probs.mean(axis=0)\n",
    "\n",
    "    # 5. 输出\n",
    "    print(\"\\n📊 视频情绪分布：\")\n",
    "    for emotion, score in zip(emotion_labels, avg_probs):\n",
    "        # 只打印第一个冒号前面的情感名称\n",
    "        emotion_name = emotion.split(\":\")[0]\n",
    "        print(f\"{emotion_name:<15}: {score:.3f}\")\n",
    "    \n",
    "    print(\"\\n🌟 推测视频情感基调：\", emotion_labels[np.argmax(avg_probs)].split(\":\")[0])\n"
   ]
  },
  {
   "cell_type": "code",
   "execution_count": 20,
   "id": "2f42b01a-2a23-4ffd-ba91-9c30bb0db0b4",
   "metadata": {},
   "outputs": [
    {
     "name": "stdout",
     "output_type": "stream",
     "text": [
      "⏳ 正在处理视频: fixed_test.mp4\n",
      "✅ 提取帧数: 43\n",
      "\n",
      "📊 视频情绪分布：\n",
      "Joy            : 0.012\n",
      "Anger          : 0.008\n",
      "Sadness        : 0.001\n",
      "Fear           : 0.457\n",
      "Excited        : 0.522\n",
      "\n",
      "🌟 推测视频情感基调： Excited\n"
     ]
    }
   ],
   "source": [
    "analyze_video_emotion(\"fixed_test.mp4\", model, preprocess, device=device)"
   ]
  },
  {
   "cell_type": "code",
   "execution_count": null,
   "id": "7e18a18f-f675-4b05-b522-5d36041c48f5",
   "metadata": {},
   "outputs": [
    {
     "name": "stdout",
     "output_type": "stream",
     "text": [
      "⏳ 正在处理视频: tree.mp4\n",
      "✅ 提取帧数: 46\n",
      "\n",
      "📊 视频情绪分布：\n",
      "Joy            : 0.074\n",
      "Anger          : 0.010\n",
      "Sadness        : 0.090\n",
      "Excitement     : 0.332\n",
      "Inner Peace    : 0.493\n",
      "\n",
      "🌟 推测视频情感基调： Inner Peace\n"
     ]
    }
   ],
   "source": [
    "analyze_video_emotion(\"tree.mp4\", model, preprocess, device=device)"
   ]
  },
  {
   "cell_type": "code",
   "execution_count": null,
   "id": "b5357e4f-86e6-477a-a43a-f2496a86f42d",
   "metadata": {},
   "outputs": [
    {
     "name": "stdout",
     "output_type": "stream",
     "text": [
      "⏳ 正在处理视频: ./output/fear_2.mp4\n",
      "✅ 提取帧数: 90\n",
      "\n",
      "📊 视频情绪分布：\n",
      "Joy            : 0.043\n",
      "Anger          : 0.027\n",
      "Sadness        : 0.000\n",
      "Fear           : 0.929\n",
      "Inner Peace    : 0.000\n",
      "\n",
      "🌟 推测视频情感基调： Fear\n"
     ]
    }
   ],
   "source": [
    "analyze_video_emotion(\"./output/fear_2.mp4\", model, preprocess, device=device)"
   ]
  },
  {
   "cell_type": "code",
   "execution_count": null,
   "id": "279aeaba-252d-4428-890a-f68f8d8d57dc",
   "metadata": {},
   "outputs": [
    {
     "name": "stdout",
     "output_type": "stream",
     "text": [
      "⏳ 正在处理视频: ./output/愤怒_7.mp4\n",
      "✅ 提取帧数: 90\n",
      "\n",
      "📊 视频情绪分布：\n",
      "Joy            : 0.714\n",
      "Anger          : 0.025\n",
      "Sadness        : 0.012\n",
      "Fear           : 0.248\n",
      "Inner Peace    : 0.001\n",
      "\n",
      "🌟 推测视频情感基调： Joy\n"
     ]
    }
   ],
   "source": [
    "analyze_video_emotion(\"./output/愤怒_7.mp4\", model, preprocess, device=device)"
   ]
  },
  {
   "cell_type": "code",
   "execution_count": null,
   "id": "50208e0c-b513-4b1d-b463-266836153aa3",
   "metadata": {},
   "outputs": [
    {
     "name": "stdout",
     "output_type": "stream",
     "text": [
      "⏳ 正在处理视频: ./output/愤怒_8.mp4\n",
      "✅ 提取帧数: 90\n",
      "\n",
      "📊 视频情绪分布：\n",
      "Joy            : 0.372\n",
      "Anger          : 0.013\n",
      "Sadness        : 0.008\n",
      "Fear           : 0.606\n",
      "Inner Peace    : 0.001\n",
      "\n",
      "🌟 推测视频情感基调： Fear\n"
     ]
    }
   ],
   "source": [
    "analyze_video_emotion(\"./output/愤怒_8.mp4\", model, preprocess, device=device)"
   ]
  },
  {
   "cell_type": "code",
   "execution_count": null,
   "id": "20219944-597e-4da1-8f59-231b2d828b71",
   "metadata": {},
   "outputs": [],
   "source": []
  }
 ],
 "metadata": {
  "kernelspec": {
   "display_name": "CLIP",
   "language": "python",
   "name": "python3"
  },
  "language_info": {
   "codemirror_mode": {
    "name": "ipython",
    "version": 3
   },
   "file_extension": ".py",
   "mimetype": "text/x-python",
   "name": "python",
   "nbconvert_exporter": "python",
   "pygments_lexer": "ipython3",
   "version": "3.8.20"
  }
 },
 "nbformat": 4,
 "nbformat_minor": 5
}
